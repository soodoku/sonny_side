{
 "cells": [
  {
   "cell_type": "code",
   "execution_count": 1,
   "metadata": {},
   "outputs": [],
   "source": [
    "import pandas as pd\n",
    "from selenium import webdriver\n",
    "from selenium.webdriver.support.ui import WebDriverWait\n",
    "from selenium.webdriver.support.select import Select\n",
    "import time"
   ]
  },
  {
   "cell_type": "code",
   "execution_count": 2,
   "metadata": {},
   "outputs": [],
   "source": [
    "options = webdriver.ChromeOptions()\n",
    "# Using SOCKS Proxy (Optional)\n",
    "options.add_argument(\"--proxy-server=socks5://127.0.0.1:8081\")\n",
    "browser = webdriver.Chrome('f:/utils/chromedriver/chromedriver.exe', options=options)"
   ]
  },
  {
   "cell_type": "code",
   "execution_count": 20,
   "metadata": {},
   "outputs": [],
   "source": [
    "browser.get(\"https://www.ilsos.gov/corporatellc/CorporateLlcController\")"
   ]
  },
  {
   "cell_type": "code",
   "execution_count": 21,
   "metadata": {},
   "outputs": [],
   "source": [
    "elem = browser.find_element_by_name('type')\n",
    "elem.click()\n",
    "elem = browser.find_element_by_name('next')\n",
    "elem.click()"
   ]
  },
  {
   "cell_type": "code",
   "execution_count": 22,
   "metadata": {},
   "outputs": [],
   "source": [
    "elem = browser.find_elements_by_xpath(\"//input[@type='radio']\")[1]\n",
    "elem.click()\n",
    "elem = browser.find_element_by_xpath(\"//input[(@type='text') and (not(@id='search'))]\")\n",
    "elem.clear()\n",
    "elem.send_keys(\"son\")\n",
    "elem = browser.find_element_by_name('next')\n",
    "elem.click()"
   ]
  },
  {
   "cell_type": "code",
   "execution_count": 23,
   "metadata": {},
   "outputs": [],
   "source": [
    "from selenium.webdriver.common.by import By\n",
    "from selenium.webdriver.support import expected_conditions as EC\n",
    "\n",
    "dfs = pd.read_html(browser.page_source, attrs={'class': 'table table-striped table-hover'})\n",
    "df = dfs[0]\n",
    "page = 2"
   ]
  },
  {
   "cell_type": "code",
   "execution_count": 25,
   "metadata": {},
   "outputs": [
    {
     "name": "stdout",
     "output_type": "stream",
     "text": [
      "page = 2\n",
      "page = 3\n",
      "page = 4\n",
      "page = 5\n",
      "page = 6\n",
      "page = 7\n",
      "page = 8\n",
      "page = 9\n",
      "page = 10\n",
      "page = 11\n",
      "page = 12\n",
      "page = 13\n",
      "page = 14\n",
      "page = 15\n",
      "page = 16\n",
      "page = 17\n",
      "page = 18\n",
      "page = 19\n",
      "page = 20\n",
      "page = 21\n",
      "page = 22\n",
      "page = 23\n",
      "page = 24\n",
      "page = 25\n",
      "page = 26\n",
      "page = 27\n",
      "page = 28\n",
      "page = 29\n",
      "page = 30\n",
      "page = 31\n",
      "page = 32\n",
      "page = 33\n",
      "page = 34\n",
      "page = 35\n",
      "page = 36\n",
      "page = 37\n",
      "page = 38\n",
      "page = 39\n",
      "page = 40\n",
      "page = 41\n",
      "page = 42\n",
      "page = 43\n",
      "page = 44\n",
      "page = 45\n",
      "page = 46\n",
      "page = 47\n",
      "page = 48\n",
      "Message: element not interactable\n",
      "  (Session info: chrome=79.0.3945.88)\n",
      "\n"
     ]
    }
   ],
   "source": [
    "while True:\n",
    "    try:\n",
    "        print('page = %d' % page)\n",
    "        elem = browser.find_element_by_name(\"command\")\n",
    "        elem.click()\n",
    "    except Exception as e:\n",
    "        print(e)\n",
    "        break\n",
    "    time.sleep(3)\n",
    "    dfs = pd.read_html(browser.page_source, attrs={'class': 'table table-striped table-hover'})\n",
    "    if df is None:\n",
    "        df = dfs[0]\n",
    "    else:\n",
    "        df = pd.concat([df, dfs[0]])\n",
    "    page += 1        "
   ]
  },
  {
   "cell_type": "code",
   "execution_count": 26,
   "metadata": {},
   "outputs": [
    {
     "data": {
      "text/html": [
       "<div>\n",
       "<style scoped>\n",
       "    .dataframe tbody tr th:only-of-type {\n",
       "        vertical-align: middle;\n",
       "    }\n",
       "\n",
       "    .dataframe tbody tr th {\n",
       "        vertical-align: top;\n",
       "    }\n",
       "\n",
       "    .dataframe thead th {\n",
       "        text-align: right;\n",
       "    }\n",
       "</style>\n",
       "<table border=\"1\" class=\"dataframe\">\n",
       "  <thead>\n",
       "    <tr style=\"text-align: right;\">\n",
       "      <th></th>\n",
       "      <th>Entity Type</th>\n",
       "      <th>File Number</th>\n",
       "      <th>Corporation/LLC Name</th>\n",
       "    </tr>\n",
       "  </thead>\n",
       "  <tbody>\n",
       "    <tr>\n",
       "      <th>0</th>\n",
       "      <td>CORP MST</td>\n",
       "      <td>62767693</td>\n",
       "      <td>A AFFORDABLE &amp; SON, INC.‎‎‎‎</td>\n",
       "    </tr>\n",
       "    <tr>\n",
       "      <th>1</th>\n",
       "      <td>CORP OLD</td>\n",
       "      <td>38347519</td>\n",
       "      <td>A. ALLIN &amp; SON, INC.‎‎‎‎</td>\n",
       "    </tr>\n",
       "    <tr>\n",
       "      <th>2</th>\n",
       "      <td>CORP MST</td>\n",
       "      <td>66744175</td>\n",
       "      <td>A.B.M. CONSTRUCTION &amp; SON CORP.‎‎‎‎</td>\n",
       "    </tr>\n",
       "    <tr>\n",
       "      <th>3</th>\n",
       "      <td>CORP ASE</td>\n",
       "      <td>66508242</td>\n",
       "      <td>A.B. &amp; SON'S PLUMBING, SEWER &amp; DRAINAGE‎‎‎‎</td>\n",
       "    </tr>\n",
       "    <tr>\n",
       "      <th>4</th>\n",
       "      <td>CORP MST</td>\n",
       "      <td>59392514</td>\n",
       "      <td>A. BAUTISTA &amp; SON LANDSCAPE INC.‎‎‎‎</td>\n",
       "    </tr>\n",
       "    <tr>\n",
       "      <th>...</th>\n",
       "      <td>...</td>\n",
       "      <td>...</td>\n",
       "      <td>...</td>\n",
       "    </tr>\n",
       "    <tr>\n",
       "      <th>30</th>\n",
       "      <td>CORP MST</td>\n",
       "      <td>59052284</td>\n",
       "      <td>ZIKA &amp; SON DELIVERIES, INC.‎‎‎‎</td>\n",
       "    </tr>\n",
       "    <tr>\n",
       "      <th>31</th>\n",
       "      <td>CORP OLD</td>\n",
       "      <td>43701894</td>\n",
       "      <td>ZIMMERMAN AND SON, INC.‎‎‎‎</td>\n",
       "    </tr>\n",
       "    <tr>\n",
       "      <th>32</th>\n",
       "      <td>CORP MST</td>\n",
       "      <td>57982187</td>\n",
       "      <td>ZORAN &amp; SON TRUCKING, INC.‎‎‎‎</td>\n",
       "    </tr>\n",
       "    <tr>\n",
       "      <th>33</th>\n",
       "      <td>CORP MST</td>\n",
       "      <td>68827094</td>\n",
       "      <td>3 SON'S LOGISTICS INC.‎‎‎‎</td>\n",
       "    </tr>\n",
       "    <tr>\n",
       "      <th>34</th>\n",
       "      <td>LLC MST</td>\n",
       "      <td>3787567</td>\n",
       "      <td>3RD SON CONSULTING LLC‎‎‎‎</td>\n",
       "    </tr>\n",
       "  </tbody>\n",
       "</table>\n",
       "<p>2335 rows × 3 columns</p>\n",
       "</div>"
      ],
      "text/plain": [
       "   Entity Type  File Number                         Corporation/LLC Name\n",
       "0     CORP MST     62767693                 A AFFORDABLE & SON, INC.‎‎‎‎\n",
       "1     CORP OLD     38347519                     A. ALLIN & SON, INC.‎‎‎‎\n",
       "2     CORP MST     66744175          A.B.M. CONSTRUCTION & SON CORP.‎‎‎‎\n",
       "3     CORP ASE     66508242  A.B. & SON'S PLUMBING, SEWER & DRAINAGE‎‎‎‎\n",
       "4     CORP MST     59392514         A. BAUTISTA & SON LANDSCAPE INC.‎‎‎‎\n",
       "..         ...          ...                                          ...\n",
       "30    CORP MST     59052284              ZIKA & SON DELIVERIES, INC.‎‎‎‎\n",
       "31    CORP OLD     43701894                  ZIMMERMAN AND SON, INC.‎‎‎‎\n",
       "32    CORP MST     57982187               ZORAN & SON TRUCKING, INC.‎‎‎‎\n",
       "33    CORP MST     68827094                   3 SON'S LOGISTICS INC.‎‎‎‎\n",
       "34     LLC MST      3787567                   3RD SON CONSULTING LLC‎‎‎‎\n",
       "\n",
       "[2335 rows x 3 columns]"
      ]
     },
     "execution_count": 26,
     "metadata": {},
     "output_type": "execute_result"
    }
   ],
   "source": [
    "df"
   ]
  },
  {
   "cell_type": "code",
   "execution_count": 27,
   "metadata": {},
   "outputs": [],
   "source": [
    "df.reset_index(drop=True).to_csv('son-Illinois.csv', index=False)"
   ]
  },
  {
   "cell_type": "code",
   "execution_count": 28,
   "metadata": {},
   "outputs": [],
   "source": [
    "browser.quit()"
   ]
  },
  {
   "cell_type": "code",
   "execution_count": null,
   "metadata": {},
   "outputs": [],
   "source": []
  }
 ],
 "metadata": {
  "kernelspec": {
   "display_name": "Python 3",
   "language": "python",
   "name": "python3"
  },
  "language_info": {
   "codemirror_mode": {
    "name": "ipython",
    "version": 3
   },
   "file_extension": ".py",
   "mimetype": "text/x-python",
   "name": "python",
   "nbconvert_exporter": "python",
   "pygments_lexer": "ipython3",
   "version": "3.7.5"
  }
 },
 "nbformat": 4,
 "nbformat_minor": 2
}
