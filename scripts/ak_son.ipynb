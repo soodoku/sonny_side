{
  "cells": [
    {
      "cell_type": "code",
      "source": [
        "import pandas as pd\n",
        "from selenium import webdriver\n",
        "from selenium.webdriver.support.ui import WebDriverWait\n",
        "from selenium.webdriver.support.select import Select\n",
        "import time"
      ],
      "outputs": [],
      "execution_count": null,
      "metadata": {}
    },
    {
      "cell_type": "code",
      "source": [
        "options = webdriver.ChromeOptions()\n",
        "# Using SOCKS Proxy (Optional)\n",
        "options.add_argument(\"--proxy-server=socks5://127.0.0.1:8080\")\n",
        "browser = webdriver.Chrome('f:/utils/chromedriver/chromedriver.exe', options=chrome_options)\n",
        "browser.get(\"https://www.commerce.alaska.gov/cbp/main/search/entities\")"
      ],
      "outputs": [],
      "execution_count": null,
      "metadata": {}
    },
    {
      "cell_type": "code",
      "source": [
        "entity = browser.find_element_by_id(\"EntityName\")\n",
        "entity.clear()\n",
        "entity.send_keys(\"son\")\n",
        "search = browser.find_element_by_id(\"search\")\n",
        "search.click()"
      ],
      "outputs": [],
      "execution_count": null,
      "metadata": {}
    },
    {
      "cell_type": "code",
      "source": [
        "df = None\n",
        "page = 1\n",
        "while True:\n",
        "    spage = Select(browser.find_element_by_css_selector(\".pgNumTxt select\"))\n",
        "    try:\n",
        "        print('page = %d' % page)\n",
        "        spage.select_by_visible_text(str(page))\n",
        "        page += 1\n",
        "    except Exception as e:\n",
        "        print(e)\n",
        "        break\n",
        "    time.sleep(5)\n",
        "    dfs = pd.read_html(browser.page_source, attrs={'class': 'deptGridView'})\n",
        "    if df is None:\n",
        "        df = dfs[0]\n",
        "    else:\n",
        "        df = pd.concat([df, dfs[0]])"
      ],
      "outputs": [],
      "execution_count": null,
      "metadata": {}
    },
    {
      "cell_type": "code",
      "source": [
        "page = 102\n",
        "while True:\n",
        "    print('page = %d' % page)\n",
        "    # FIXME: Get the data over 2,000 result using direct URL\n",
        "    browser.get('https://www.commerce.alaska.gov/cbp/main/Search/EntitiesResults?EntityName=son&IsStartsWithSearch=False&CurrentOnly=False&pageNumber=%d' % page)\n",
        "    time.sleep(5)\n",
        "    try:\n",
        "        dfs = pd.read_html(browser.page_source, attrs={'class': 'deptGridView'})\n",
        "        df = pd.concat([df, dfs[0]])\n",
        "    except Exception as e:\n",
        "        print(e)\n",
        "        break\n",
        "    page += 1\n"
      ],
      "outputs": [],
      "execution_count": null,
      "metadata": {}
    },
    {
      "cell_type": "code",
      "source": [
        "df"
      ],
      "outputs": [],
      "execution_count": null,
      "metadata": {}
    },
    {
      "cell_type": "code",
      "source": [
        "df.reset_index(drop=True).to_csv('son.csv', index=False)"
      ],
      "outputs": [],
      "execution_count": null,
      "metadata": {}
    },
    {
      "cell_type": "code",
      "source": [
        "browser.quit()"
      ],
      "outputs": [],
      "execution_count": null,
      "metadata": {}
    }
  ],
  "metadata": {
    "kernelspec": {
      "name": "python3",
      "language": "python",
      "display_name": "Python 3"
    },
    "language_info": {
      "name": "python",
      "version": "3.6.4",
      "mimetype": "text/x-python",
      "codemirror_mode": {
        "name": "ipython",
        "version": 3
      },
      "pygments_lexer": "ipython3",
      "nbconvert_exporter": "python",
      "file_extension": ".py"
    },
    "kernel_info": {
      "name": "python3"
    },
    "nteract": {
      "version": "0.11.7"
    }
  },
  "nbformat": 4,
  "nbformat_minor": 2
}