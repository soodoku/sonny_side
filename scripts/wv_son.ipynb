{
 "cells": [
  {
   "cell_type": "code",
   "execution_count": 1,
   "metadata": {},
   "outputs": [],
   "source": [
    "import pandas as pd\n",
    "from selenium import webdriver\n",
    "from selenium.webdriver.support.ui import WebDriverWait\n",
    "from selenium.webdriver.support.select import Select\n",
    "import time"
   ]
  },
  {
   "cell_type": "code",
   "execution_count": 2,
   "metadata": {},
   "outputs": [],
   "source": [
    "options = webdriver.ChromeOptions()\n",
    "# Using SOCKS Proxy (Optional)\n",
    "options.add_argument(\"--proxy-server=socks5://127.0.0.1:8081\")\n",
    "browser = webdriver.Chrome('f:/utils/chromedriver/chromedriver.exe', options=options)"
   ]
  },
  {
   "cell_type": "code",
   "execution_count": 3,
   "metadata": {},
   "outputs": [],
   "source": [
    "browser.get(\"https://apps.wv.gov/SOS/BusinessEntitySearch/\")"
   ]
  },
  {
   "cell_type": "code",
   "execution_count": 6,
   "metadata": {},
   "outputs": [],
   "source": [
    "entity = browser.find_element_by_id(\"phMain_txtOrganizationName\")\n",
    "entity.clear()\n",
    "entity.send_keys(\"son\")\n",
    "search = browser.find_element_by_id(\"phMain_btnSearch\")\n",
    "search.click()"
   ]
  },
  {
   "cell_type": "code",
   "execution_count": 24,
   "metadata": {},
   "outputs": [],
   "source": [
    "from selenium.webdriver.common.by import By\n",
    "from selenium.webdriver.support import expected_conditions as EC\n",
    "\n",
    "df = None\n",
    "page = 1"
   ]
  },
  {
   "cell_type": "code",
   "execution_count": null,
   "metadata": {},
   "outputs": [],
   "source": [
    "while True:\n",
    "    try:\n",
    "        print('page = %d' % page)\n",
    "        p = page % 10\n",
    "        if p == 0:\n",
    "            p = 10\n",
    "        if page != 1 and p == 1:\n",
    "            elem = browser.find_element_by_id(\"phMain_gvSearchResults_lbPageNext\")\n",
    "            elem.click()\n",
    "            time.sleep(3)\n",
    "        elem = browser.find_element_by_id(\"phMain_gvSearchResults_lbPage%d\" % p)\n",
    "        elem.click()\n",
    "    except Exception as e:\n",
    "        print(e)\n",
    "        break\n",
    "    time.sleep(3)\n",
    "    dfs = pd.read_html(browser.page_source, attrs={'id': 'phMain_gvSearchResults'})\n",
    "    if df is None:\n",
    "        df = dfs[0][:-1]\n",
    "    else:\n",
    "        df = pd.concat([df, dfs[0][:-1]])\n",
    "    page += 1\n",
    "    if page > 100:\n",
    "        break"
   ]
  },
  {
   "cell_type": "code",
   "execution_count": 33,
   "metadata": {},
   "outputs": [
    {
     "data": {
      "text/html": [
       "<div>\n",
       "<style scoped>\n",
       "    .dataframe tbody tr th:only-of-type {\n",
       "        vertical-align: middle;\n",
       "    }\n",
       "\n",
       "    .dataframe tbody tr th {\n",
       "        vertical-align: top;\n",
       "    }\n",
       "\n",
       "    .dataframe thead th {\n",
       "        text-align: right;\n",
       "    }\n",
       "</style>\n",
       "<table border=\"1\" class=\"dataframe\">\n",
       "  <thead>\n",
       "    <tr style=\"text-align: right;\">\n",
       "      <th></th>\n",
       "      <th>Name</th>\n",
       "      <th>Type</th>\n",
       "      <th>City</th>\n",
       "      <th>Status</th>\n",
       "      <th>Details</th>\n",
       "    </tr>\n",
       "  </thead>\n",
       "  <tbody>\n",
       "    <tr>\n",
       "      <th>0</th>\n",
       "      <td>D. HAYES &amp; SON CONTRACTING</td>\n",
       "      <td>NaN</td>\n",
       "      <td>NaN</td>\n",
       "      <td>Active</td>\n",
       "      <td>Details</td>\n",
       "    </tr>\n",
       "    <tr>\n",
       "      <th>1</th>\n",
       "      <td>GIBSONS CONSULTING</td>\n",
       "      <td>NaN</td>\n",
       "      <td>NaN</td>\n",
       "      <td>Active</td>\n",
       "      <td>Details</td>\n",
       "    </tr>\n",
       "    <tr>\n",
       "      <th>2</th>\n",
       "      <td>KIMBERLEY S PIERSON</td>\n",
       "      <td>NaN</td>\n",
       "      <td>NaN</td>\n",
       "      <td>Active</td>\n",
       "      <td>Details</td>\n",
       "    </tr>\n",
       "    <tr>\n",
       "      <th>3</th>\n",
       "      <td>\"MODERN MASONRY CONCEPTS\" LLC</td>\n",
       "      <td>Limited Liability Company</td>\n",
       "      <td>REEDY</td>\n",
       "      <td>Not Active</td>\n",
       "      <td>Details</td>\n",
       "    </tr>\n",
       "    <tr>\n",
       "      <th>4</th>\n",
       "      <td>\"SAVAGE\" STEVENSON INC.</td>\n",
       "      <td>Corporation</td>\n",
       "      <td>HUNTINGTON</td>\n",
       "      <td>Not Active</td>\n",
       "      <td>Details</td>\n",
       "    </tr>\n",
       "    <tr>\n",
       "      <th>...</th>\n",
       "      <td>...</td>\n",
       "      <td>...</td>\n",
       "      <td>...</td>\n",
       "      <td>...</td>\n",
       "      <td>...</td>\n",
       "    </tr>\n",
       "    <tr>\n",
       "      <th>5</th>\n",
       "      <td>BERNARD G. SAMPSON COMPANY, INC.</td>\n",
       "      <td>Corporation</td>\n",
       "      <td>FAIRMONT</td>\n",
       "      <td>Not Active</td>\n",
       "      <td>Details</td>\n",
       "    </tr>\n",
       "    <tr>\n",
       "      <th>6</th>\n",
       "      <td>BERNARD JOHNSON CORPORATION</td>\n",
       "      <td>Corporation</td>\n",
       "      <td>AUSTIN</td>\n",
       "      <td>Not Active</td>\n",
       "      <td>Details</td>\n",
       "    </tr>\n",
       "    <tr>\n",
       "      <th>7</th>\n",
       "      <td>BERNICE WILLIAMSON</td>\n",
       "      <td>NaN</td>\n",
       "      <td>NaN</td>\n",
       "      <td>Active</td>\n",
       "      <td>Details</td>\n",
       "    </tr>\n",
       "    <tr>\n",
       "      <th>8</th>\n",
       "      <td>BERRY WILSON DRILLING COMPANY</td>\n",
       "      <td>Corporation</td>\n",
       "      <td>HUNTINGTON</td>\n",
       "      <td>Not Active</td>\n",
       "      <td>Details</td>\n",
       "    </tr>\n",
       "    <tr>\n",
       "      <th>9</th>\n",
       "      <td>BERRY-BIPPUS-CHISON &amp; FOOSE, INC.</td>\n",
       "      <td>Corporation</td>\n",
       "      <td>WHEELING</td>\n",
       "      <td>Active</td>\n",
       "      <td>Details</td>\n",
       "    </tr>\n",
       "  </tbody>\n",
       "</table>\n",
       "<p>1000 rows × 5 columns</p>\n",
       "</div>"
      ],
      "text/plain": [
       "                                 Name                       Type        City  \\\n",
       "0          D. HAYES & SON CONTRACTING                        NaN         NaN   \n",
       "1                  GIBSONS CONSULTING                        NaN         NaN   \n",
       "2                 KIMBERLEY S PIERSON                        NaN         NaN   \n",
       "3       \"MODERN MASONRY CONCEPTS\" LLC  Limited Liability Company       REEDY   \n",
       "4             \"SAVAGE\" STEVENSON INC.                Corporation  HUNTINGTON   \n",
       "..                                ...                        ...         ...   \n",
       "5    BERNARD G. SAMPSON COMPANY, INC.                Corporation    FAIRMONT   \n",
       "6         BERNARD JOHNSON CORPORATION                Corporation      AUSTIN   \n",
       "7                  BERNICE WILLIAMSON                        NaN         NaN   \n",
       "8       BERRY WILSON DRILLING COMPANY                Corporation  HUNTINGTON   \n",
       "9   BERRY-BIPPUS-CHISON & FOOSE, INC.                Corporation    WHEELING   \n",
       "\n",
       "        Status  Details  \n",
       "0       Active  Details  \n",
       "1       Active  Details  \n",
       "2       Active  Details  \n",
       "3   Not Active  Details  \n",
       "4   Not Active  Details  \n",
       "..         ...      ...  \n",
       "5   Not Active  Details  \n",
       "6   Not Active  Details  \n",
       "7       Active  Details  \n",
       "8   Not Active  Details  \n",
       "9       Active  Details  \n",
       "\n",
       "[1000 rows x 5 columns]"
      ]
     },
     "execution_count": 33,
     "metadata": {},
     "output_type": "execute_result"
    }
   ],
   "source": [
    "df"
   ]
  },
  {
   "cell_type": "code",
   "execution_count": 34,
   "metadata": {},
   "outputs": [],
   "source": [
    "df.reset_index(drop=True).to_csv('son-wv-1k.csv', index=False)"
   ]
  },
  {
   "cell_type": "code",
   "execution_count": 35,
   "metadata": {},
   "outputs": [],
   "source": [
    "browser.quit()"
   ]
  },
  {
   "cell_type": "code",
   "execution_count": null,
   "metadata": {},
   "outputs": [],
   "source": []
  }
 ],
 "metadata": {
  "kernelspec": {
   "display_name": "Python 3",
   "language": "python",
   "name": "python3"
  },
  "language_info": {
   "codemirror_mode": {
    "name": "ipython",
    "version": 3
   },
   "file_extension": ".py",
   "mimetype": "text/x-python",
   "name": "python",
   "nbconvert_exporter": "python",
   "pygments_lexer": "ipython3",
   "version": "3.7.5"
  }
 },
 "nbformat": 4,
 "nbformat_minor": 2
}
